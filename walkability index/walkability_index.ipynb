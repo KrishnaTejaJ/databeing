{
  "nbformat": 4,
  "nbformat_minor": 0,
  "metadata": {
    "colab": {
      "provenance": []
    },
    "kernelspec": {
      "name": "python3",
      "display_name": "Python 3"
    },
    "language_info": {
      "name": "python"
    }
  },
  "cells": [
    {
      "cell_type": "markdown",
      "source": [
        "Find unique location identifier in the data, to use that to find the record that corresponds to a particular school or university location. Then that walkability index can be used to draw up visualisations.\n",
        "\n",
        "\n",
        "Just university and college tract and blocks only - no neighbourhood strategies...\n",
        "\n",
        "Only educational institutions in Indiana... Got the table data from wikipedia, and then using the wikipedia page of that institution extract the coordinated and then use FCC Area API to get the FIPS. Using that FIPS and getting the data from the smartlocationdatabase csv file."
      ],
      "metadata": {
        "id": "c20Ktcqkij0o"
      }
    },
    {
      "cell_type": "code",
      "source": [
        "!pip install geocoder"
      ],
      "metadata": {
        "id": "oZPGrfuUt0vl"
      },
      "execution_count": null,
      "outputs": []
    },
    {
      "cell_type": "code",
      "source": [
        "from bs4 import BeautifulSoup\n",
        "import csv\n",
        "import geocoder\n",
        "import html5lib\n",
        "import json\n",
        "import numpy as np\n",
        "import openpyxl\n",
        "import pandas as pd\n",
        "import requests"
      ],
      "metadata": {
        "id": "sgEsXmfEuFuz"
      },
      "execution_count": null,
      "outputs": []
    },
    {
      "cell_type": "code",
      "execution_count": null,
      "metadata": {
        "id": "I1vHErNEZAU4",
        "colab": {
          "base_uri": "https://localhost:8080/",
          "height": 393
        },
        "outputId": "c4320f4e-6a51-4c10-b3cd-f4e8c4fcbba4"
      },
      "outputs": [
        {
          "output_type": "execute_result",
          "data": {
            "text/plain": [
              "            OBJECTID       GEOID10       GEOID20        STATEFP  \\\n",
              "count  220740.000000  2.207390e+05  2.207400e+05  220740.000000   \n",
              "mean   110370.500000  2.870894e+11  2.870915e+11      28.623190   \n",
              "std     63722.293548  1.640746e+11  1.640774e+11      16.386075   \n",
              "min         1.000000  1.001020e+10  1.001020e+10       1.000000   \n",
              "25%     55185.750000  1.312100e+11  1.312100e+11      13.000000   \n",
              "50%    110370.500000  2.901900e+11  2.901900e+11      29.000000   \n",
              "75%    165555.250000  4.200350e+11  4.200350e+11      42.000000   \n",
              "max    220740.000000  7.803100e+11  7.803100e+11      78.000000   \n",
              "\n",
              "            COUNTYFP        TRACTCE       BLKGRPCE            CSA  \\\n",
              "count  220740.000000  220740.000000  220740.000000  167709.000000   \n",
              "mean       85.697449  262342.382110       2.221392     341.742661   \n",
              "std        98.818946  351403.837442       1.195155     125.700068   \n",
              "min         1.000000     100.000000       0.000000     104.000000   \n",
              "25%        29.000000   10303.000000       1.000000     218.000000   \n",
              "50%        61.000000   46298.000000       2.000000     361.000000   \n",
              "75%       109.000000  482503.000000       3.000000     429.000000   \n",
              "max       840.000000  993000.000000       9.000000     566.000000   \n",
              "\n",
              "                CBSA      CBSA_POP  ...          D5DRI           D5DE  \\\n",
              "count  203645.000000  2.207400e+05  ...  220740.000000  220740.000000   \n",
              "mean    30514.836210  3.607329e+06  ...  -57326.486630  -57326.597590   \n",
              "std     10979.471375  5.219925e+06  ...   49459.959391   49459.830782   \n",
              "min     10100.000000  0.000000e+00  ...  -99999.000000  -99999.000000   \n",
              "25%     19740.000000  2.053030e+05  ...  -99999.000000  -99999.000000   \n",
              "50%     32820.000000  1.252890e+06  ...  -99999.000000  -99999.000000   \n",
              "75%     39300.000000  4.673634e+06  ...       0.142514       0.000354   \n",
              "max     49820.000000  1.931847e+07  ...       1.000000       1.000000   \n",
              "\n",
              "               D5DEI     D2A_Ranked     D2B_Ranked     D3B_Ranked  \\\n",
              "count  220740.000000  220740.000000  220740.000000  220740.000000   \n",
              "mean   -57326.483325      10.500000      10.500000      10.500000   \n",
              "std     49459.963223       5.766294       5.766294       5.766294   \n",
              "min    -99999.000000       1.000000       1.000000       1.000000   \n",
              "25%    -99999.000000       5.750000       5.750000       5.750000   \n",
              "50%    -99999.000000      10.500000      10.500000      10.500000   \n",
              "75%         0.161708      15.250000      15.250000      15.250000   \n",
              "max         1.000000      20.000000      20.000000      20.000000   \n",
              "\n",
              "          D4A_Ranked     NatWalkInd  Shape_Length    Shape_Area  \n",
              "count  220740.000000  220740.000000  2.207400e+05  2.207400e+05  \n",
              "mean        7.624884       9.541628  1.655970e+04  4.466074e+07  \n",
              "std         7.812853       4.373952  3.830373e+04  6.430513e+08  \n",
              "min         1.000000       1.000000  2.685713e+02  4.435890e+03  \n",
              "25%         1.000000       5.833333  3.271213e+03  4.985104e+05  \n",
              "50%         1.000000       9.166667  5.877323e+03  1.373918e+06  \n",
              "75%        16.000000      13.166667  1.596391e+04  9.413158e+06  \n",
              "max        20.000000      20.000000  3.925989e+06  1.641290e+11  \n",
              "\n",
              "[8 rows x 115 columns]"
            ],
            "text/html": [
              "\n",
              "  <div id=\"df-121a55ef-2d2a-4266-ad82-705218274f33\">\n",
              "    <div class=\"colab-df-container\">\n",
              "      <div>\n",
              "<style scoped>\n",
              "    .dataframe tbody tr th:only-of-type {\n",
              "        vertical-align: middle;\n",
              "    }\n",
              "\n",
              "    .dataframe tbody tr th {\n",
              "        vertical-align: top;\n",
              "    }\n",
              "\n",
              "    .dataframe thead th {\n",
              "        text-align: right;\n",
              "    }\n",
              "</style>\n",
              "<table border=\"1\" class=\"dataframe\">\n",
              "  <thead>\n",
              "    <tr style=\"text-align: right;\">\n",
              "      <th></th>\n",
              "      <th>OBJECTID</th>\n",
              "      <th>GEOID10</th>\n",
              "      <th>GEOID20</th>\n",
              "      <th>STATEFP</th>\n",
              "      <th>COUNTYFP</th>\n",
              "      <th>TRACTCE</th>\n",
              "      <th>BLKGRPCE</th>\n",
              "      <th>CSA</th>\n",
              "      <th>CBSA</th>\n",
              "      <th>CBSA_POP</th>\n",
              "      <th>...</th>\n",
              "      <th>D5DRI</th>\n",
              "      <th>D5DE</th>\n",
              "      <th>D5DEI</th>\n",
              "      <th>D2A_Ranked</th>\n",
              "      <th>D2B_Ranked</th>\n",
              "      <th>D3B_Ranked</th>\n",
              "      <th>D4A_Ranked</th>\n",
              "      <th>NatWalkInd</th>\n",
              "      <th>Shape_Length</th>\n",
              "      <th>Shape_Area</th>\n",
              "    </tr>\n",
              "  </thead>\n",
              "  <tbody>\n",
              "    <tr>\n",
              "      <th>count</th>\n",
              "      <td>220740.000000</td>\n",
              "      <td>2.207390e+05</td>\n",
              "      <td>2.207400e+05</td>\n",
              "      <td>220740.000000</td>\n",
              "      <td>220740.000000</td>\n",
              "      <td>220740.000000</td>\n",
              "      <td>220740.000000</td>\n",
              "      <td>167709.000000</td>\n",
              "      <td>203645.000000</td>\n",
              "      <td>2.207400e+05</td>\n",
              "      <td>...</td>\n",
              "      <td>220740.000000</td>\n",
              "      <td>220740.000000</td>\n",
              "      <td>220740.000000</td>\n",
              "      <td>220740.000000</td>\n",
              "      <td>220740.000000</td>\n",
              "      <td>220740.000000</td>\n",
              "      <td>220740.000000</td>\n",
              "      <td>220740.000000</td>\n",
              "      <td>2.207400e+05</td>\n",
              "      <td>2.207400e+05</td>\n",
              "    </tr>\n",
              "    <tr>\n",
              "      <th>mean</th>\n",
              "      <td>110370.500000</td>\n",
              "      <td>2.870894e+11</td>\n",
              "      <td>2.870915e+11</td>\n",
              "      <td>28.623190</td>\n",
              "      <td>85.697449</td>\n",
              "      <td>262342.382110</td>\n",
              "      <td>2.221392</td>\n",
              "      <td>341.742661</td>\n",
              "      <td>30514.836210</td>\n",
              "      <td>3.607329e+06</td>\n",
              "      <td>...</td>\n",
              "      <td>-57326.486630</td>\n",
              "      <td>-57326.597590</td>\n",
              "      <td>-57326.483325</td>\n",
              "      <td>10.500000</td>\n",
              "      <td>10.500000</td>\n",
              "      <td>10.500000</td>\n",
              "      <td>7.624884</td>\n",
              "      <td>9.541628</td>\n",
              "      <td>1.655970e+04</td>\n",
              "      <td>4.466074e+07</td>\n",
              "    </tr>\n",
              "    <tr>\n",
              "      <th>std</th>\n",
              "      <td>63722.293548</td>\n",
              "      <td>1.640746e+11</td>\n",
              "      <td>1.640774e+11</td>\n",
              "      <td>16.386075</td>\n",
              "      <td>98.818946</td>\n",
              "      <td>351403.837442</td>\n",
              "      <td>1.195155</td>\n",
              "      <td>125.700068</td>\n",
              "      <td>10979.471375</td>\n",
              "      <td>5.219925e+06</td>\n",
              "      <td>...</td>\n",
              "      <td>49459.959391</td>\n",
              "      <td>49459.830782</td>\n",
              "      <td>49459.963223</td>\n",
              "      <td>5.766294</td>\n",
              "      <td>5.766294</td>\n",
              "      <td>5.766294</td>\n",
              "      <td>7.812853</td>\n",
              "      <td>4.373952</td>\n",
              "      <td>3.830373e+04</td>\n",
              "      <td>6.430513e+08</td>\n",
              "    </tr>\n",
              "    <tr>\n",
              "      <th>min</th>\n",
              "      <td>1.000000</td>\n",
              "      <td>1.001020e+10</td>\n",
              "      <td>1.001020e+10</td>\n",
              "      <td>1.000000</td>\n",
              "      <td>1.000000</td>\n",
              "      <td>100.000000</td>\n",
              "      <td>0.000000</td>\n",
              "      <td>104.000000</td>\n",
              "      <td>10100.000000</td>\n",
              "      <td>0.000000e+00</td>\n",
              "      <td>...</td>\n",
              "      <td>-99999.000000</td>\n",
              "      <td>-99999.000000</td>\n",
              "      <td>-99999.000000</td>\n",
              "      <td>1.000000</td>\n",
              "      <td>1.000000</td>\n",
              "      <td>1.000000</td>\n",
              "      <td>1.000000</td>\n",
              "      <td>1.000000</td>\n",
              "      <td>2.685713e+02</td>\n",
              "      <td>4.435890e+03</td>\n",
              "    </tr>\n",
              "    <tr>\n",
              "      <th>25%</th>\n",
              "      <td>55185.750000</td>\n",
              "      <td>1.312100e+11</td>\n",
              "      <td>1.312100e+11</td>\n",
              "      <td>13.000000</td>\n",
              "      <td>29.000000</td>\n",
              "      <td>10303.000000</td>\n",
              "      <td>1.000000</td>\n",
              "      <td>218.000000</td>\n",
              "      <td>19740.000000</td>\n",
              "      <td>2.053030e+05</td>\n",
              "      <td>...</td>\n",
              "      <td>-99999.000000</td>\n",
              "      <td>-99999.000000</td>\n",
              "      <td>-99999.000000</td>\n",
              "      <td>5.750000</td>\n",
              "      <td>5.750000</td>\n",
              "      <td>5.750000</td>\n",
              "      <td>1.000000</td>\n",
              "      <td>5.833333</td>\n",
              "      <td>3.271213e+03</td>\n",
              "      <td>4.985104e+05</td>\n",
              "    </tr>\n",
              "    <tr>\n",
              "      <th>50%</th>\n",
              "      <td>110370.500000</td>\n",
              "      <td>2.901900e+11</td>\n",
              "      <td>2.901900e+11</td>\n",
              "      <td>29.000000</td>\n",
              "      <td>61.000000</td>\n",
              "      <td>46298.000000</td>\n",
              "      <td>2.000000</td>\n",
              "      <td>361.000000</td>\n",
              "      <td>32820.000000</td>\n",
              "      <td>1.252890e+06</td>\n",
              "      <td>...</td>\n",
              "      <td>-99999.000000</td>\n",
              "      <td>-99999.000000</td>\n",
              "      <td>-99999.000000</td>\n",
              "      <td>10.500000</td>\n",
              "      <td>10.500000</td>\n",
              "      <td>10.500000</td>\n",
              "      <td>1.000000</td>\n",
              "      <td>9.166667</td>\n",
              "      <td>5.877323e+03</td>\n",
              "      <td>1.373918e+06</td>\n",
              "    </tr>\n",
              "    <tr>\n",
              "      <th>75%</th>\n",
              "      <td>165555.250000</td>\n",
              "      <td>4.200350e+11</td>\n",
              "      <td>4.200350e+11</td>\n",
              "      <td>42.000000</td>\n",
              "      <td>109.000000</td>\n",
              "      <td>482503.000000</td>\n",
              "      <td>3.000000</td>\n",
              "      <td>429.000000</td>\n",
              "      <td>39300.000000</td>\n",
              "      <td>4.673634e+06</td>\n",
              "      <td>...</td>\n",
              "      <td>0.142514</td>\n",
              "      <td>0.000354</td>\n",
              "      <td>0.161708</td>\n",
              "      <td>15.250000</td>\n",
              "      <td>15.250000</td>\n",
              "      <td>15.250000</td>\n",
              "      <td>16.000000</td>\n",
              "      <td>13.166667</td>\n",
              "      <td>1.596391e+04</td>\n",
              "      <td>9.413158e+06</td>\n",
              "    </tr>\n",
              "    <tr>\n",
              "      <th>max</th>\n",
              "      <td>220740.000000</td>\n",
              "      <td>7.803100e+11</td>\n",
              "      <td>7.803100e+11</td>\n",
              "      <td>78.000000</td>\n",
              "      <td>840.000000</td>\n",
              "      <td>993000.000000</td>\n",
              "      <td>9.000000</td>\n",
              "      <td>566.000000</td>\n",
              "      <td>49820.000000</td>\n",
              "      <td>1.931847e+07</td>\n",
              "      <td>...</td>\n",
              "      <td>1.000000</td>\n",
              "      <td>1.000000</td>\n",
              "      <td>1.000000</td>\n",
              "      <td>20.000000</td>\n",
              "      <td>20.000000</td>\n",
              "      <td>20.000000</td>\n",
              "      <td>20.000000</td>\n",
              "      <td>20.000000</td>\n",
              "      <td>3.925989e+06</td>\n",
              "      <td>1.641290e+11</td>\n",
              "    </tr>\n",
              "  </tbody>\n",
              "</table>\n",
              "<p>8 rows × 115 columns</p>\n",
              "</div>\n",
              "      <button class=\"colab-df-convert\" onclick=\"convertToInteractive('df-121a55ef-2d2a-4266-ad82-705218274f33')\"\n",
              "              title=\"Convert this dataframe to an interactive table.\"\n",
              "              style=\"display:none;\">\n",
              "        \n",
              "  <svg xmlns=\"http://www.w3.org/2000/svg\" height=\"24px\"viewBox=\"0 0 24 24\"\n",
              "       width=\"24px\">\n",
              "    <path d=\"M0 0h24v24H0V0z\" fill=\"none\"/>\n",
              "    <path d=\"M18.56 5.44l.94 2.06.94-2.06 2.06-.94-2.06-.94-.94-2.06-.94 2.06-2.06.94zm-11 1L8.5 8.5l.94-2.06 2.06-.94-2.06-.94L8.5 2.5l-.94 2.06-2.06.94zm10 10l.94 2.06.94-2.06 2.06-.94-2.06-.94-.94-2.06-.94 2.06-2.06.94z\"/><path d=\"M17.41 7.96l-1.37-1.37c-.4-.4-.92-.59-1.43-.59-.52 0-1.04.2-1.43.59L10.3 9.45l-7.72 7.72c-.78.78-.78 2.05 0 2.83L4 21.41c.39.39.9.59 1.41.59.51 0 1.02-.2 1.41-.59l7.78-7.78 2.81-2.81c.8-.78.8-2.07 0-2.86zM5.41 20L4 18.59l7.72-7.72 1.47 1.35L5.41 20z\"/>\n",
              "  </svg>\n",
              "      </button>\n",
              "      \n",
              "  <style>\n",
              "    .colab-df-container {\n",
              "      display:flex;\n",
              "      flex-wrap:wrap;\n",
              "      gap: 12px;\n",
              "    }\n",
              "\n",
              "    .colab-df-convert {\n",
              "      background-color: #E8F0FE;\n",
              "      border: none;\n",
              "      border-radius: 50%;\n",
              "      cursor: pointer;\n",
              "      display: none;\n",
              "      fill: #1967D2;\n",
              "      height: 32px;\n",
              "      padding: 0 0 0 0;\n",
              "      width: 32px;\n",
              "    }\n",
              "\n",
              "    .colab-df-convert:hover {\n",
              "      background-color: #E2EBFA;\n",
              "      box-shadow: 0px 1px 2px rgba(60, 64, 67, 0.3), 0px 1px 3px 1px rgba(60, 64, 67, 0.15);\n",
              "      fill: #174EA6;\n",
              "    }\n",
              "\n",
              "    [theme=dark] .colab-df-convert {\n",
              "      background-color: #3B4455;\n",
              "      fill: #D2E3FC;\n",
              "    }\n",
              "\n",
              "    [theme=dark] .colab-df-convert:hover {\n",
              "      background-color: #434B5C;\n",
              "      box-shadow: 0px 1px 3px 1px rgba(0, 0, 0, 0.15);\n",
              "      filter: drop-shadow(0px 1px 2px rgba(0, 0, 0, 0.3));\n",
              "      fill: #FFFFFF;\n",
              "    }\n",
              "  </style>\n",
              "\n",
              "      <script>\n",
              "        const buttonEl =\n",
              "          document.querySelector('#df-121a55ef-2d2a-4266-ad82-705218274f33 button.colab-df-convert');\n",
              "        buttonEl.style.display =\n",
              "          google.colab.kernel.accessAllowed ? 'block' : 'none';\n",
              "\n",
              "        async function convertToInteractive(key) {\n",
              "          const element = document.querySelector('#df-121a55ef-2d2a-4266-ad82-705218274f33');\n",
              "          const dataTable =\n",
              "            await google.colab.kernel.invokeFunction('convertToInteractive',\n",
              "                                                     [key], {});\n",
              "          if (!dataTable) return;\n",
              "\n",
              "          const docLinkHtml = 'Like what you see? Visit the ' +\n",
              "            '<a target=\"_blank\" href=https://colab.research.google.com/notebooks/data_table.ipynb>data table notebook</a>'\n",
              "            + ' to learn more about interactive tables.';\n",
              "          element.innerHTML = '';\n",
              "          dataTable['output_type'] = 'display_data';\n",
              "          await google.colab.output.renderOutput(dataTable, element);\n",
              "          const docLink = document.createElement('div');\n",
              "          docLink.innerHTML = docLinkHtml;\n",
              "          element.appendChild(docLink);\n",
              "        }\n",
              "      </script>\n",
              "    </div>\n",
              "  </div>\n",
              "  "
            ]
          },
          "metadata": {},
          "execution_count": 4
        }
      ],
      "source": [
        "#Find the latest dataset at https://catalog.data.gov/dataset/walkability-index\n",
        "df = pd.read_csv(\"/content/drive/MyDrive/Walkability Index/EPA_SmartLocationDatabase_V3_Jan_2021_Final.csv\")\n",
        "df.describe()"
      ]
    },
    {
      "cell_type": "code",
      "source": [
        "df.dtypes"
      ],
      "metadata": {
        "id": "Ty3mNTm9vIQf",
        "colab": {
          "base_uri": "https://localhost:8080/"
        },
        "outputId": "5d3c181f-dc7a-4046-8443-bc596a72bdf1"
      },
      "execution_count": null,
      "outputs": [
        {
          "output_type": "execute_result",
          "data": {
            "text/plain": [
              "OBJECTID          int64\n",
              "GEOID10         float64\n",
              "GEOID20         float64\n",
              "STATEFP           int64\n",
              "COUNTYFP          int64\n",
              "                 ...   \n",
              "D3B_Ranked        int64\n",
              "D4A_Ranked        int64\n",
              "NatWalkInd      float64\n",
              "Shape_Length    float64\n",
              "Shape_Area      float64\n",
              "Length: 117, dtype: object"
            ]
          },
          "metadata": {},
          "execution_count": 5
        }
      ]
    },
    {
      "cell_type": "markdown",
      "source": [
        "\n",
        "###Walkability Index\n",
        "\n",
        "Label: 1 - 5.75 (Least Walkable)\n",
        "\n",
        "Label: 5.76 - 10.50 (Below Average Walkable)\n",
        "\n",
        "Label: 10.51 - 15.25 (Above Average Walkable)\n",
        "\n",
        "Label: 15.26 - 20 (Most Walkable)"
      ],
      "metadata": {
        "id": "J56_vOz3-nqB"
      }
    },
    {
      "cell_type": "code",
      "source": [
        "#df[(df['STATEFP'] == 18) & (df['COUNTYFP'] == 105) & (df['TRACTCE'] == 202)]['NatWalkInd']"
      ],
      "metadata": {
        "id": "nk9sCVmo0oEt"
      },
      "execution_count": null,
      "outputs": []
    },
    {
      "cell_type": "code",
      "source": [
        "'''\n",
        "#https://stackoverflow.com/questions/25888396/how-to-get-latitude-longitude-with-python\n",
        "\n",
        "def get_latlong(name):\n",
        "  g = geocoder.bing(name, key='AhyTa3fHo0r5fI_9Ang8n0TXO9J77F8k0JmQWtg-VVUnsmXiPB-U4rwX5d_GXGtZ')\n",
        "  results = g.json\n",
        "  #print(results)\n",
        "  return (results['lat'], results['lng'])\n",
        "'''"
      ],
      "metadata": {
        "id": "XEyNMcO-sAbf"
      },
      "execution_count": null,
      "outputs": []
    },
    {
      "cell_type": "code",
      "source": [
        "'''\n",
        "#https://geo.fcc.gov/api/census/#!/block/get_block_find\n",
        "\n",
        "latitude, longitude = get_latlong('Indiana University Bloomington')\n",
        "print(latitude, longitude)\n",
        "\n",
        "block_data = requests.get(f\"https://geo.fcc.gov/api/census/block/find?latitude={str(latitude)}&longitude={str(longitude)}&censusYear=2020&showall=true&format=json\").text\n",
        "block_data = json.loads(block_data)\n",
        "#print(block_data)\n",
        "new_lat_long = block_data[\"Block\"]['bbox']\n",
        "print(new_lat_long)\n",
        "\n",
        "\n",
        "block_data2 = get_api_data(f\"https://geo.fcc.gov/api/census/block/find?latitude={str(new_lat_long[1])}&longitude={str(new_lat_long[0])}&censusYear=2020&showall=true&format=json\").text\n",
        "block_data2 = json.loads(block_data2)\n",
        "print(block_data2)\n",
        "\n",
        "\n",
        "state = int(block_data2[\"Block\"]['FIPS'][0:2])\n",
        "county = int(block_data2[\"Block\"]['FIPS'][2:5])\n",
        "tract = int(block_data2[\"Block\"]['FIPS'][5:11])\n",
        "print(state, county, tract)\n",
        "'''"
      ],
      "metadata": {
        "id": "iWkv0j3yurH8"
      },
      "execution_count": null,
      "outputs": []
    },
    {
      "cell_type": "markdown",
      "source": [
        "A 15-digit number that begins with the state identifier and ends with the block identifier. BLOCKID: 15-character code that is the concatenation of fields consisting of the 2-character state FIPS code, the 3-character county FIPS code, the 6-character census tract code, and the 4-character tabulation block code.\n",
        "\n",
        "Cooridantes returned by BingAPI are not yeilding accurate values i.e. the data for corresponding block FIPS is not present in the smartlocationdatabase csv. Might have to depend on the boundary coordinates returned by the block api."
      ],
      "metadata": {
        "id": "FGkG6DRe4R-4"
      }
    },
    {
      "cell_type": "code",
      "source": [
        "#df[(df['STATEFP'] == state) & (df['COUNTYFP'] == county) & (df['TRACTCE'] == tract)]#['NatWalkInd']"
      ],
      "metadata": {
        "id": "YTOUG05-zplp"
      },
      "execution_count": null,
      "outputs": []
    },
    {
      "cell_type": "code",
      "source": [
        "#List of all education institutions in Indiana... source: https://en.wikipedia.org/wiki/List_of_colleges_and_universities_in_Indiana\n",
        "\n",
        "#df_edu_places = pd.read_csv(\"edu_list.csv\")"
      ],
      "metadata": {
        "id": "SgiunjHTspPT"
      },
      "execution_count": null,
      "outputs": []
    },
    {
      "cell_type": "markdown",
      "source": [
        "Using beautiful soap to extract exact coordinates of the locations from their respective wikipedia page"
      ],
      "metadata": {
        "id": "clWvKDRDj1Jk"
      }
    },
    {
      "cell_type": "code",
      "source": [
        "def scrape_lat_long(link):\n",
        "  response = requests.get(link).text\n",
        "  soup = BeautifulSoup(response, 'html.parser')\n",
        "  coords=soup.find('span',\"geo-dec\").text\n",
        "  lat_long = coords.split()\n",
        "  lat = lat_long[0][:-2]\n",
        "  long_ = '-' + lat_long[1][:-2]\n",
        "  return(lat, long_)"
      ],
      "metadata": {
        "id": "vJx61AAlkJDm"
      },
      "execution_count": null,
      "outputs": []
    },
    {
      "cell_type": "code",
      "source": [
        "walkability_index_list = list()\n",
        "\n",
        "df_edu_places_exl = pd.read_excel(\"Educational institutions in Indiana.xlsx\")\n",
        "\n",
        "wb = openpyxl.load_workbook(\"Educational institutions in Indiana.xlsx\")\n",
        "ws = wb['Sheet1']\n",
        "\n",
        "for row in range(2, 64):\n",
        "  cell = ws.cell(row=row, column=1)\n",
        "  temp = [cell.value]\n",
        "  try:\n",
        "   latitude, longitude = scrape_lat_long(cell.hyperlink.target)\n",
        "  except:\n",
        "    #print(temp[0] + ' - No wikipedia link found.')\n",
        "    pass\n",
        "\n",
        "  block_data = requests.get(f\"https://geo.fcc.gov/api/census/block/find?latitude={latitude}&longitude={longitude}&censusYear=2020&showall=true&format=json\").text\n",
        "  block_data = json.loads(block_data)\n",
        "\n",
        "  state = int(block_data[\"Block\"]['FIPS'][0:2])\n",
        "  county = int(block_data[\"Block\"]['FIPS'][2:5])\n",
        "  tract = int(block_data[\"Block\"]['FIPS'][5:11])\n",
        "\n",
        "  temp.append(df[(df['STATEFP'] == state) & (df['COUNTYFP'] == county) & (df['TRACTCE'] == tract)]['NatWalkInd'].mean())\n",
        "  if not np.isnan(temp[1]): walkability_index_list.append(temp) #Not considering nan value yielding lists\n",
        "\n",
        "\n",
        "\n",
        "walkability_index_list.sort(key = lambda x: x[1])\n",
        "print(walkability_index_list)"
      ],
      "metadata": {
        "colab": {
          "base_uri": "https://localhost:8080/"
        },
        "id": "14F0UmcHZg50",
        "outputId": "8ff9e0ea-4e24-47ab-fa41-07213b13b2d9"
      },
      "execution_count": null,
      "outputs": [
        {
          "output_type": "stream",
          "name": "stdout",
          "text": [
            "[['Saint Mary-of-the-Woods College', 4.083333333500001], ['Ancilla College', 4.2083333335], ['Rose-Hulman Institute of Technology', 4.2333333334], ['Indiana University East', 5.916666667], ['Oakland City University', 5.9666666666], ['Taylor University', 6.916666666749999], ['Hanover College', 7.111111111333333], ['Indiana University Northwest', 7.1111111115000005], ['Indiana University Kokomo', 7.333333333666666], ['Indiana University Southeast', 7.722222221], ['Purdue University Northwest', 7.722222222333333], ['Calumet College of St. Joseph', 7.75], ['Indiana University – Purdue University Columbus', 7.888888888666666], ['Ball State University', 8.333333333], ['Ottawa University–Jeffersonville', 8.3999999992], ['Wabash College', 8.4333333334], ['WGU Indiana', 8.4333333334], ['University of Evansville', 8.49999999925], ['Goshen College', 8.555555554333333], ['Trine University', 8.58333333425], ['Manchester University', 8.666666666000001], ['DePauw University', 9.4166666675], ['Bethel University', 9.666666666000001], ['Huntington University', 9.66666666825], ['Bethany Theological Seminary', 9.7500000015], ['Earlham College', 9.7500000015], ['Indiana Wesleyan University', 9.83333333325], ['Vincennes University', 9.87500000075], ['Anderson University', 10.055555556666667], ['Indiana University South Bend', 10.0833333335], ['Franklin College', 10.583333334999999], ['Concordia Theological Seminary', 11.33333333], ['Marian University', 11.444444444333334], ['University of Saint Francis', 11.874999997500002], ['International Business College', 12.166666665666668], ['Christian Theological Seminary', 12.722222223333333], ['College of Court Reporting', 12.722222223333333], ['Martin University', 13.0], ['Mid-America College of Funeral Service', 13.0], ['International Business College–Indianapolis', 13.444444444333334], ['Ivy Tech Community College of Indiana', 13.444444444333334], ['Lincoln Tech[35]', 13.4583333325], ['Crossroads Bible College', 13.958333334999999], ['DeVry University–Indiana', 14.0], ['Indiana University Fort Wayne[a]', 14.16666667], ['Purdue University Fort Wayne[b]', 14.16666667], ['Purdue University Global', 14.16666667], ['Indiana Institute of Technology', 14.5], ['Butler University', 14.6666666675], ['Purdue University', 15.66666667], ['Indiana University Bloomington', 16.33333333]]\n"
          ]
        }
      ]
    },
    {
      "cell_type": "code",
      "source": [
        "#Nested lists to csv\n",
        "\n",
        "with open('output.csv', 'w', newline='') as csvfile:\n",
        "    writer = csv.writer(csvfile)\n",
        "    writer.writerows(walkability_index_list)"
      ],
      "metadata": {
        "id": "4kSuHHtivMMR"
      },
      "execution_count": null,
      "outputs": []
    },
    {
      "cell_type": "markdown",
      "source": [
        "For entire USA..."
      ],
      "metadata": {
        "id": "cgzDni0JXSBl"
      }
    },
    {
      "cell_type": "markdown",
      "source": [
        "In order to obtain wikipedia_source.html, the following is done...\n",
        "\n",
        "1. https://en.wikipedia.org/wiki/Lists_of_American_universities_and_colleges\n",
        "2. In the above page, Tools -> What links here\n",
        "3. Sorted list\n",
        "4. Using inspect, copy the outer html of the html element.\n",
        "5. Save the code to a file i.e., wikipedia_source.html\n"
      ],
      "metadata": {
        "id": "wuoMGZ02xtRd"
      }
    },
    {
      "cell_type": "code",
      "source": [
        "#Extract all links from the wikipedia page to get the links for the list of colleges in each state\n",
        "\n",
        "#Lists of American universities and colleges - wikipedia\n",
        "with open('/content/drive/MyDrive/Walkability Index/wikipedia_source.html', 'r') as f:\n",
        "  contents = f.read()\n",
        "  soup = BeautifulSoup(contents, 'lxml')\n",
        "  #print(soup)\n",
        "  state_unis = {}\n",
        "  for link in soup.find_all(\"a\"):\n",
        "      url = link.get(\"href\", \"\")\n",
        "      if \"/wiki/List_of_colleges_and_universities_in_\" in url:\n",
        "          state_unis[link.text.strip()] = url\n",
        "\n",
        "'''\n",
        "#dictionary to csv\n",
        "with open('state_unis_urls.csv', 'w') as csvfile:\n",
        "    writer = csv.writer(csvfile)\n",
        "    writer.writerow(['Link text', 'Link'])\n",
        "    count = 0\n",
        "    for key, value in state_unis.items():\n",
        "      count += 1\n",
        "      writer.writerow([key, value])\n",
        "      if count == 54: break\n",
        "'''"
      ],
      "metadata": {
        "id": "FzLHpIGSd7D9"
      },
      "execution_count": null,
      "outputs": []
    },
    {
      "cell_type": "code",
      "source": [
        "def strip_string(stri):\n",
        "  if stri[-3:] == '[c]': return stri[:-3]\n",
        "  else: return stri"
      ],
      "metadata": {
        "id": "9WgwqQaATrxR"
      },
      "execution_count": null,
      "outputs": []
    },
    {
      "cell_type": "code",
      "source": [
        "#list of colleges and universities in a state\n",
        "\n",
        "walkability_index_list = list()\n",
        "wiki_begin = 'https://en.wikipedia.org'\n",
        "count = 0\n",
        "\n",
        "for value in state_unis.values():\n",
        "\n",
        "  count += 1\n",
        "  #get the table containing the details of all the colleges and universities in a state\n",
        "  df_state_unis = pd.read_html(value, extract_links=\"all\")[0]\n",
        "  print(f\"Progress: {count}/{len(state_unis)}\", value)\n",
        "\n",
        "  for uni in df_state_unis.iloc[:, 0]: #looping over institution names and their wikis\n",
        "    temp = [strip_string(uni[0])]\n",
        "    try:\n",
        "      url = wiki_begin + uni[1]\n",
        "      latitude, longitude = scrape_lat_long(url)\n",
        "    except:\n",
        "      #print(temp[0] + ' - No wikipedia link found.')\n",
        "      continue\n",
        "\n",
        "    block_data = requests.get(f\"https://geo.fcc.gov/api/census/block/find?latitude={latitude}&longitude={longitude}&censusYear=2020&showall=true&format=json\").text\n",
        "    block_data = json.loads(block_data)\n",
        "\n",
        "    state = int(block_data[\"Block\"]['FIPS'][0:2])\n",
        "    county = int(block_data[\"Block\"]['FIPS'][2:5])\n",
        "    tract = int(block_data[\"Block\"]['FIPS'][5:11])\n",
        "\n",
        "    try:\n",
        "      temp.append(df[(df['STATEFP'] == state) & (df['COUNTYFP'] == county) & (df['TRACTCE'] == tract)]['NatWalkInd'].mean())\n",
        "      #print(temp)\n",
        "    except:\n",
        "      continue\n",
        "\n",
        "    if not np.isnan(temp[1]): walkability_index_list.append(temp) #Not considering nan value yielding lists\n",
        "\n",
        "  if count == 54: break\n",
        "\n",
        "walkability_index_list.sort(key = lambda x: x[1])\n",
        "print(walkability_index_list)"
      ],
      "metadata": {
        "colab": {
          "base_uri": "https://localhost:8080/"
        },
        "id": "ma6G0JVhaHVd",
        "outputId": "91b5139a-4e85-440b-ae40-0f642cbca185"
      },
      "execution_count": null,
      "outputs": [
        {
          "output_type": "stream",
          "name": "stdout",
          "text": [
            "Progress: 1/60 https://en.wikipedia.org/wiki/List_of_colleges_and_universities_in_Alabama\n",
            "Progress: 2/60 https://en.wikipedia.org/wiki/List_of_colleges_and_universities_in_Alaska\n",
            "Progress: 3/60 https://en.wikipedia.org/wiki/List_of_colleges_and_universities_in_Arizona\n",
            "Progress: 4/60 https://en.wikipedia.org/wiki/List_of_colleges_and_universities_in_Arkansas\n",
            "Progress: 5/60 https://en.wikipedia.org/wiki/List_of_colleges_and_universities_in_Baltimore\n",
            "Progress: 6/60 https://en.wikipedia.org/wiki/List_of_colleges_and_universities_in_California\n",
            "Progress: 7/60 https://en.wikipedia.org/wiki/List_of_colleges_and_universities_in_Colorado\n",
            "Progress: 8/60 https://en.wikipedia.org/wiki/List_of_colleges_and_universities_in_Connecticut\n",
            "Progress: 9/60 https://en.wikipedia.org/wiki/List_of_colleges_and_universities_in_Delaware\n",
            "Progress: 10/60 https://en.wikipedia.org/wiki/List_of_colleges_and_universities_in_Florida\n",
            "Progress: 11/60 https://en.wikipedia.org/wiki/List_of_colleges_and_universities_in_Georgia_(U.S._state)\n",
            "Progress: 12/60 https://en.wikipedia.org/wiki/List_of_colleges_and_universities_in_Guam\n",
            "Progress: 13/60 https://en.wikipedia.org/wiki/List_of_colleges_and_universities_in_Hawaii\n",
            "Progress: 14/60 https://en.wikipedia.org/wiki/List_of_colleges_and_universities_in_Idaho\n",
            "Progress: 15/60 https://en.wikipedia.org/wiki/List_of_colleges_and_universities_in_Illinois\n",
            "Progress: 16/60 https://en.wikipedia.org/wiki/List_of_colleges_and_universities_in_Indiana\n",
            "Progress: 17/60 https://en.wikipedia.org/wiki/List_of_colleges_and_universities_in_Iowa\n",
            "Progress: 18/60 https://en.wikipedia.org/wiki/List_of_colleges_and_universities_in_Kansas\n",
            "Progress: 19/60 https://en.wikipedia.org/wiki/List_of_colleges_and_universities_in_Kentucky\n",
            "Progress: 20/60 https://en.wikipedia.org/wiki/List_of_colleges_and_universities_in_Louisiana\n",
            "Progress: 21/60 https://en.wikipedia.org/wiki/List_of_colleges_and_universities_in_Maine\n",
            "Progress: 22/60 https://en.wikipedia.org/wiki/List_of_colleges_and_universities_in_Maryland\n",
            "Progress: 23/60 https://en.wikipedia.org/wiki/List_of_colleges_and_universities_in_Massachusetts\n",
            "Progress: 24/60 https://en.wikipedia.org/wiki/List_of_colleges_and_universities_in_Michigan\n",
            "Progress: 25/60 https://en.wikipedia.org/wiki/List_of_colleges_and_universities_in_Minnesota\n",
            "Progress: 26/60 https://en.wikipedia.org/wiki/List_of_colleges_and_universities_in_Mississippi\n",
            "Progress: 27/60 https://en.wikipedia.org/wiki/List_of_colleges_and_universities_in_Missouri\n",
            "Progress: 28/60 https://en.wikipedia.org/wiki/List_of_colleges_and_universities_in_Montana\n",
            "Progress: 29/60 https://en.wikipedia.org/wiki/List_of_colleges_and_universities_in_Nebraska\n",
            "Progress: 30/60 https://en.wikipedia.org/wiki/List_of_colleges_and_universities_in_Nevada\n",
            "Progress: 31/60 https://en.wikipedia.org/wiki/List_of_colleges_and_universities_in_New_Hampshire\n",
            "Progress: 32/60 https://en.wikipedia.org/wiki/List_of_colleges_and_universities_in_New_Jersey\n",
            "Progress: 33/60 https://en.wikipedia.org/wiki/List_of_colleges_and_universities_in_New_Mexico\n",
            "Progress: 34/60 https://en.wikipedia.org/wiki/List_of_colleges_and_universities_in_New_York_(state)\n",
            "Progress: 35/60 https://en.wikipedia.org/wiki/List_of_colleges_and_universities_in_North_Carolina\n",
            "Progress: 36/60 https://en.wikipedia.org/wiki/List_of_colleges_and_universities_in_North_Dakota\n",
            "Progress: 37/60 https://en.wikipedia.org/wiki/List_of_colleges_and_universities_in_Ohio\n",
            "Progress: 38/60 https://en.wikipedia.org/wiki/List_of_colleges_and_universities_in_Oklahoma\n",
            "Progress: 39/60 https://en.wikipedia.org/wiki/List_of_colleges_and_universities_in_Oregon\n",
            "Progress: 40/60 https://en.wikipedia.org/wiki/List_of_colleges_and_universities_in_Pennsylvania\n",
            "Progress: 41/60 https://en.wikipedia.org/wiki/List_of_colleges_and_universities_in_Puerto_Rico\n",
            "Progress: 42/60 https://en.wikipedia.org/wiki/List_of_colleges_and_universities_in_Rhode_Island\n",
            "Progress: 43/60 https://en.wikipedia.org/wiki/List_of_colleges_and_universities_in_South_Carolina\n",
            "Progress: 44/60 https://en.wikipedia.org/wiki/List_of_colleges_and_universities_in_South_Dakota\n",
            "Progress: 45/60 https://en.wikipedia.org/wiki/List_of_colleges_and_universities_in_Tennessee\n",
            "Progress: 46/60 https://en.wikipedia.org/wiki/List_of_colleges_and_universities_in_Texas\n",
            "Progress: 47/60 https://en.wikipedia.org/wiki/List_of_colleges_and_universities_in_Utah\n",
            "Progress: 48/60 https://en.wikipedia.org/wiki/List_of_colleges_and_universities_in_Vermont\n",
            "Progress: 49/60 https://en.wikipedia.org/wiki/List_of_colleges_and_universities_in_Virginia\n",
            "Progress: 50/60 https://en.wikipedia.org/wiki/List_of_colleges_and_universities_in_Washington,_D.C.\n",
            "Progress: 51/60 https://en.wikipedia.org/wiki/List_of_colleges_and_universities_in_Washington_(state)\n",
            "Progress: 52/60 https://en.wikipedia.org/wiki/List_of_colleges_and_universities_in_West_Virginia\n",
            "Progress: 53/60 https://en.wikipedia.org/wiki/List_of_colleges_and_universities_in_Wisconsin\n",
            "Progress: 54/60 https://en.wikipedia.org/wiki/List_of_colleges_and_universities_in_Wyoming\n",
            "[['Wind River Tribal College', 3.0416666665000003], ['Diné College', 3.3333333334], ['Sinte Gleska University', 3.4166666667500003], ['Northwest Iowa Community College', 3.9583333332499997], ['Cankdeska Cikana Community College', 4.0], ['Sisseton Wahpeton College', 4.055555555666667], ['Saint Mary-of-the-Woods College', 4.083333333500001], ['Rogue Community College', 4.1666666665], ['Ancilla College', 4.2083333335], ['Rose-Hulman Institute of Technology', 4.2333333334], ['Saint Francis University', 4.333333333], ['Allegheny Wesleyan College', 4.333333333500001], ['Bethany College', 4.375], ['University of Rio Grande', 4.3888888889999995], ['Conway School of Landscape Design', 4.444444444333333], ['Peru State College', 4.45833333325], ['Erskine College', 4.499999999666667], ['Southern Union State Community College', 4.5], ['University of Alaska Fairbanks', 4.5], ['Future Generations University', 4.5], ['Hiram College', 4.583333333], ['Penn State Wilkes-Barre', 4.611111111333333], ['Cossatot Community College', 4.6666666665], ['Antioch University Midwest', 4.666666667], ['Northwest State Community College', 4.722222222333333], ['Unity College', 4.7333333334], ['Muskingum University', 4.74999999975], ['J. F. Ingram State Technical College', 4.75], ['Upper Iowa University', 4.75000000025], ['Coastal Alabama Community College', 4.888888888666666], ['Southern Arkansas University Tech', 4.999999999999999], ['Talladega College', 5.0], ['Penn State New Kensington', 5.0], ['West Liberty University', 5.0], ['Sterling College', 5.04166666675], ['St. Mary’s College', 5.16666666675], ['Chatfield College', 5.222222222333333], ['Concord University', 5.222222222333333], ['Turtle Mountain Community College', 5.233333333200001], ['Northern Essex Community College', 5.25], ['University of Idaho', 5.29166666675], ['University of Pittsburgh at Bradford', 5.333333333], ['Lakeland Community College', 5.333333333333333], ['Goddard College', 5.333333333333333], ['Wallace Community College', 5.45833333325], ['Asnuntuck Community College', 5.5], ['Northeast Ohio Medical University', 5.5], ['North Central State College', 5.6], ['Navajo Technical University', 5.611111111], ['Nebraska College of Technical Agriculture', 5.666666666666667], ['Elon University', 5.66666666675], [\"Saint Tikhon's Orthodox Theological Seminary\", 5.70833333325], ['Anna Maria College', 5.722222221999999], ['Black Hills State University', 5.722222222], ['Gordon College', 5.722222222333333], ['Maine Maritime Academy', 5.75], ['Campbell University', 5.75], ['University of Mary', 5.75], ['Wilmington College', 5.75], ['Iowa Western Community College', 5.79166666675], ['Graceland University', 5.833333333333333], ['Pfeiffer University', 5.833333333333333], ['University of Bridgeport', 5.833333333500001], ['Fort Valley State University', 5.833333333500001], ['Appalachian Bible College', 5.833333333500001], ['Sherman College of Chiropractic', 5.888888889], ['Butler County Community College', 5.916666666499999], ['Quinebaug Valley Community College', 5.91666666675], ['Gillette College', 5.91666666675], ['Indiana University East', 5.916666667], ['Western Nevada College', 5.944444444333333], [\"Saint Joseph's College of Maine\", 5.944444444666668], ['University of South Carolina Union', 5.966666666], ['Oakland City University', 5.9666666666], ['Pennsylvania College of Technology', 6.0], ['Divine Word College', 6.055555555333332], ['Pikes Peak State College', 6.055555555666667], ['Williams Baptist University', 6.083333333500001], ['Landmark College', 6.083333333500001], ['Bevill State Community College', 6.1111111110000005], ['Arkansas State University Three Rivers', 6.16666666675], ['Keystone College', 6.16666666675], ['Southwestern Community College', 6.1666666668], ['University of the Ozarks', 6.166666667], ['Western Carolina University', 6.2], ['Gordon–Conwell Theological Seminary', 6.277777777666667], ['New Hope Christian College', 6.277777777666667], ['Western Michigan University', 6.333333333], ['New Mexico Junior College', 6.333333333], ['Ozarka College', 6.333333333333333], ['Georgia Highlands College', 6.333333333333333], ['Limestone University', 6.3666666662], ['Alabama College of Osteopathic Medicine', 6.388888889], ['University of New England', 6.416666666499999], ['Grinnell College', 6.41666666675], ['Western Oregon University', 6.416666666999999], ['Salem University', 6.444444444666668], ['Cedarville University', 6.49999999925], ['Wingate University', 6.5], ['North Dakota State College of Science', 6.555555555666667], ['Allegheny College', 6.555555555666667], ['Snead State Community College', 6.583333333500001], ['Shepherd University', 6.583333333500001], ['Phillips Community College of the University of Arkansas', 6.5999999994000005], ['United Tribes Technical College', 6.611111111], ['Tuskegee University', 6.666666667], ['National Intelligence University[note 4]', 6.666666667], ['Glenville State University', 6.666666667], ['Pope St. John XXIII National Seminary', 6.714285714428572], ['Regis College', 6.714285714428572], ['Wallace State Community College', 6.75], ['Central State University', 6.766666666600001], ['Wilberforce University', 6.766666666600001], ['Edison State Community College', 6.777777777666667], ['Gardner-Webb University', 6.833333333333333], ['Anderson University', 6.833333333333333], ['Cape Cod Community College', 6.833333333500001], ['Middlesex Community College', 6.8666666674], ['Zane State College', 6.875], ['Central Ohio Technical College', 6.888888888666666], ['Vermont Law School', 6.888888889], ['Taylor University', 6.916666666749999], ['Indian Hills Community College', 6.944444444666668], ['University of Alaska Southeast', 6.958333333250001], ['St. Andrews University', 6.9666666666], ['Brigham Young University–Idaho', 7.0], ['Hawkeye Community College', 7.0], ['Oberlin College', 7.0], ['Ursuline College', 7.0], ['Messiah University', 7.0], ['Wartburg Theological Seminary', 7.000000000250001], ['Selma University', 7.000000000333333], ['The American College of Financial Services', 7.055555555333332], ['Heidelberg University', 7.055555555666667], ['Gadsden State Community College', 7.111111111], ['Lees-McRae College', 7.111111111], ['Lorain County Community College', 7.111111111], ['Hanover College', 7.111111111333333], ['Eastern Gateway Community College', 7.111111111333334], ['Spartanburg Methodist College', 7.111111111333334], ['Indiana University Northwest', 7.1111111115000005], ['Massachusetts School of Law', 7.125000000749999], ['Massasoit Community College', 7.166666666499999], ['Nueta Hidatsa Sahnish College', 7.1666666665], ['Bishop State Community College', 7.16666666675], ['Coastal Carolina University', 7.166666667], ['Horry-Georgetown Technical College', 7.166666667], ['Michigan Technological University', 7.1666666674999995], ['Fayetteville State University', 7.222222222333333], ['The School of Architecture', 7.25], ['Belmont Abbey College', 7.25], ['Carolina Christian College', 7.25], ['Warren Wilson College', 7.2666666666], ['Misericordia University', 7.266666666800001], ['University of Maine at Fort Kent', 7.277777777666667], ['University of Maine at Machias', 7.277777777666667], ['Daymar College[11]', 7.277777777666667], ['Coker University', 7.2777777776666674], ['Alderson Broaddus University', 7.29166666675], ['Winthrop University', 7.333333333], ['Millersville University of Pennsylvania', 7.333333333333333], ['Desert Research Institute', 7.333333333500001], ['Truckee Meadows Community College', 7.333333333500001], ['Indiana University Kokomo', 7.333333333666666], ['Manchester Community College', 7.333333334333333], ['Arkansas State University–Mountain Home', 7.375000000250001], ['Greenfield Community College', 7.388888888], ['Eastern Maine Community College', 7.388888888666666], ['Pennsylvania College of Health Sciences', 7.388888888666667], ['Delaware Valley University', 7.388888889], ['University of Maryland Eastern Shore', 7.38888889], ['University of Maine', 7.416666666499999], ['Penn State Fayette, The Eberly Campus', 7.416666666499999], ['Bucknell University', 7.416666666499999], ['Ouachita Baptist University', 7.416666667], ['Husson University', 7.5], ['Lake Region State College', 7.5], ['Luzerne County Community College (main campus)', 7.5], ['Luzerne County Community College (Berwick center)', 7.5], ['Luzerne County Community College (Hazleton center)', 7.5], ['Luzerne County Community College (Kulpmont center)', 7.5], ['Luzerne County Community College (Pittston center)', 7.5], ['Luzerne County Community College (Scranton center)', 7.5], ['Luzerne County Community College (Northumberland regional higher education center)', 7.5], ['Luzerne County Community College (Wilkes-Barre center)', 7.5], ['Bowie State University', 7.555555554333334], ['University of Arkansas at Pine Bluff', 7.555555555666667], ['Wake Forest University', 7.555555555666667], ['University of Wyoming', 7.583333333000001], ['Eastern New Mexico University', 7.58333333425], ['Mayville State University', 7.611111111], ['Ashland University', 7.666666666], ['Ellsworth Community College', 7.666666666499999], ['Northern Maine Community College', 7.666666666499999], ['University of Maine at Presque Isle', 7.666666666499999], ['Orangeburg–Calhoun Technical College', 7.666666666499999], ['University of North Alabama', 7.6666666665], ['Columbia International University', 7.6666666665], ['College of Coastal Georgia', 7.666666666666667], ['Bluffton University', 7.666666666666667], ['Indiana University Southeast', 7.722222221], ['Purdue University Northwest', 7.722222222333333], ['Wayne State College', 7.7222222228333335], ['Penn State Harrisburg', 7.749999999], ['Calumet College of St. Joseph', 7.75], ['University of Maine at Augusta', 7.75], ['California University of Pennsylvania', 7.75], ['Temple University Ambler', 7.75], ['Pennsylvania Institute of Technology', 7.75], ['College of the Atlantic', 7.766666666000001], ['Penn State Hazleton', 7.777777777666667], ['Grove City College', 7.7916666674999995], ['Institute of American Indian Arts', 7.833333333], ['Santa Fe Community College', 7.833333333], ['YTI Career Institute (Altoona campus)', 7.833333333000001], ['YTI Career Institute (York campus)', 7.833333333000001], ['New England Institute of Technology', 7.833333333333333], ['Hamilton Technical College', 7.8333333335], ['Walsh University', 7.8333333335], ['Mercyhurst North East', 7.8333333335], ['Luther College', 7.833333334], ['Georgia Southwestern State University', 7.87500000075], ['Indiana University – Purdue University Columbus', 7.888888888666666], ['Potomac State College of West Virginia University', 7.888888888666667], ['Reid State Technical College', 7.916666666999999], ['Lane Community College', 7.944444443333334], ['Washington State Community College', 7.944444444333333], ['Penn State Lehigh Valley', 7.999999998666667], ['DeSales University', 7.999999998666667], ['Western Washington University', 7.999999999], ['Athens State University', 8.0], ['Black River Technical College', 8.0], ['Northwest Arkansas Community College', 8.0], ['Colorado State University Pueblo', 8.0], ['Middle Georgia State University', 8.0], ['Faith Baptist Bible College and Theological Seminary', 8.0], ['Iowa Wesleyan University', 8.0], ['Assumption University', 8.0], ['Pontifical College Josephinum', 8.0], ['South Dakota State University', 8.0], ['Northern Vermont University', 8.0], ['University of Arkansas at Monticello', 8.0000000006], ['Guilford College', 8.0000000015], ['Salisbury University', 8.0416666665], ['Iowa Lakes Community College', 8.055555555666666], ['John Brown University', 8.083333333], ['Lincoln University', 8.083333333], ['Buena Vista University', 8.08333333425], ['New Mexico State University', 8.083333334999999], ['Doña Ana Community College', 8.083333334999999], ['Burrell College of Osteopathic Medicine', 8.083333334999999], ['Carolina College of Biblical Studies', 8.11111111], ['Stark State College', 8.111111111], ['Gwynedd Mercy University', 8.111111111], ['Northern State University', 8.125], ['Southern West Virginia Community and Technical College', 8.125], ['Central Wyoming College', 8.1333333334], ['Southeast Arkansas College', 8.166666665], ['Mesalands Community College', 8.1666666665], ['University of Mount Olive', 8.1666666665], ['Arkansas State University Mid-South', 8.166666667], ['University of the Southwest', 8.166666667], ['Lurleen B. Wallace Community College', 8.1666666675], ['North Arkansas College', 8.2083333325], ['Bismarck State College', 8.333333332333334], ['Ball State University', 8.333333333], ['Clinton Junior College', 8.3333333335], ['Wyoming Technical Institute (WyoTech)', 8.3333333335], ['Northeast Iowa Community College', 8.333333334333332], ['Penn State University College of Medicine', 8.37499999925], ['Ottawa University', 8.3999999992], ['Ottawa University–Jeffersonville', 8.3999999992], ['University of North Carolina School of the Arts', 8.4166666665], ['University of Northern Colorado', 8.4166666675], ['Wabash College', 8.4333333334], ['Bowling Green State University', 8.444444444666667], ['Clark State Community College', 8.444444445], ['Mountain State University', 8.4583333325], ['West Virginia University Institute of Technology', 8.4583333325], ['Lancaster Bible College', 8.45833333325], ['Kent State University[13]', 8.499999998666667], ['University of Evansville', 8.49999999925], ['Lander University', 8.49999999925], ['Colorado Mesa University', 8.5], ['Rasmussen College', 8.5], ['Susquehanna University', 8.5], ['Douglas Education Center', 8.5], ['University of South Carolina Lancaster', 8.5], ['Youngstown State University', 8.500000001], ['Goshen College', 8.555555554333333], ['Presentation College', 8.58333333325], ['Jacksonville State University', 8.5833333335], ['Western Dakota Technical Institute', 8.5833333335], ['Trine University', 8.58333333425], ['Vermont Technical College', 8.611111110000001], ['Morris College', 8.611111111], ['University of Mount Union', 8.611111111333335], ['New River Community and Technical College', 8.625], ['University of South Dakota', 8.6333333334], ['Park University', 8.66666666575], ['Fort Lewis College', 8.666666666], ['Manchester University', 8.666666666000001], ['West Virginia State University', 8.6666666665], ['Clarke University', 8.666666666666666], ['Catawba College', 8.666666666666666], ['Saint Herman Theological Seminary', 8.666666667], ['St. Ambrose University', 8.70833333325], ['Wheeling University', 8.7083333335], ['Antioch College', 8.708333334999999], ['College of Eastern Idaho', 8.722222221], ['Pennsylvania Highlands Community College', 8.722222222333334], ['University of Pittsburgh at Johnstown', 8.722222222333334], ['Lyon College', 8.74999999925], ['University of Arkansas Community College at Batesville', 8.74999999925], ['University of Nebraska at Kearney', 8.75], ['Missio Seminary', 8.777777776666667], ['Terra State Community College', 8.777777778], ['Robert Morris University', 8.777777779], ['Defiance College', 8.79166666575], ['Thaddeus Stevens College of Technology', 8.7916666665], ['Benedictine University at Mesa', 8.79166666675], ['Fairfield University', 8.800000000599999], ['College of Southern Idaho', 8.800000000599999], ['University of Northern Iowa', 8.8333333315], ['University of Central Arkansas', 8.8333333326], ['Henderson State University', 8.833333333333334], ['Central College', 8.833333333333334], ['Washington State University', 8.833333333333334], ['Arkansas Northeastern College', 8.833333334333334], ['Presbyterian College', 8.87499999925], ['Samford University', 8.916666665000001], ['Valdosta State University', 8.9166666665], ['Trinity Bible College', 8.9166666665], ['Clarks Summit University', 8.9166666665], ['Lancaster Theological Seminary', 8.916666667], ['Franklin and Marshall College', 8.916666667], ['Mansfield University of Pennsylvania', 8.9166666675], ['Wartburg College', 8.9166666685], ['Washington & Jefferson College', 8.944444444333334], ['University of Arkansas Community College at Hope', 8.944444444666667], ['University of North Carolina at Pembroke', 8.944444444666667], ['United States Army War College', 8.958333333999999], ['Rosemont College', 8.99999999925], ['Stillman College', 9.0], ['Berkshire Community College', 9.0], ['Florence–Darlington Technical College', 9.0], ['Western Wyoming Community College', 9.0], ['Mount Vernon Nazarene University', 9.00000000075], ['Castleton University', 9.0000000015], ['Arkansas State University', 9.0416666665], ['Valley City State University', 9.04166666675], ['Central Maine Community College', 9.055555555333333], ['Loras College', 9.055555555666666], ['Williams College', 9.055555556666667], ['Elizabeth City State University', 9.08333333225], ['Carrington College', 9.083333333], ['Carrington College', 9.083333333], ['Blue Mountain Community College', 9.083333333333334], ['Juniata College', 9.083333334333332], ['Eastern Wyoming College', 9.111111110000001], ['Mount Marty University', 9.125], ['Southwestern Oregon Community College', 9.166666665000001], ['Massachusetts Maritime Academy', 9.16666666575], ['Mount Angel Seminary', 9.166666666800001], ['Minot State University', 9.166666667333333], ['University of Akron', 9.1666666675], ['Olin College', 9.199999998600001], ['Georgia College & State University', 9.2], ['Sheridan College', 9.208333333999999], ['Enterprise State Community College', 9.222222221333332], ['Waldorf University', 9.233333334], ['Penn State Altoona', 9.25], ['Emmaus Bible College', 9.277777777666666], ['Penn State Brandywine', 9.27777778], ['Fairmont State University', 9.291666666000001], ['Christ the Saviour Seminary of American Carpatho-Russian Orthodox Diocese', 9.2916666675], ['Dakota Wesleyan University', 9.2999999994], ['Mitchell Technical Institute', 9.2999999994], ['Wheaton College', 9.3333333315], ['Albright College', 9.3333333315], ['Penn State Shenango', 9.3333333325], ['Northpoint Bible College', 9.333333333333334], ['Johnson College', 9.333333333333334], ['Casper College', 9.333333333333334], ['University of South Carolina Aiken', 9.374999999], ['Mount Aloysius College', 9.3999999994], ['Marion Technical College', 9.4166666665], ['Oregon Coast Community College', 9.4166666665], ['DePauw University', 9.4166666675], ['West Virginia School of Osteopathic Medicine', 9.4166666675], ['Southern State Community College', 9.41666666775], ['Bluefield State University', 9.444444445666667], ['Lake Area Technical Institute', 9.45833333325], ['Lehigh Carbon Community College (main campus)', 9.4999999985], ['Lehigh Carbon Community College (Donley center and Baum School of Art)', 9.4999999985], ['Lehigh Carbon Community College (Morgan center)', 9.4999999985], ['Lehigh Carbon Community College (Lehigh Valley airport)', 9.4999999985], ['Wofford College', 9.499999998666667], ['Mount Wachusett Community College', 9.499999999000002], ['University of Alabama', 9.5], ['Bentley University', 9.5], ['Stonehill College', 9.5], ['Bucks County Community College (Newtown campus)', 9.5], ['Bucks County Community College (Lower Bucks campus)', 9.5], ['Bucks County Community College (Upper Bucks campus)', 9.5], ['University of Scranton', 9.500000000999998], ['Chadron State College', 9.533333334], ['Penn State Berks', 9.555555555666666], ['University of Pittsburgh at Titusville educational and training hub', 9.555555556666667], ['University of Arkansas–Fort Smith', 9.566666666], ['Arkansas Tech University', 9.5833333335], ['Technical College of the Lowcountry', 9.5833333335], ['Air Force Institute of Technology', 9.583333334999999], ['Claflin University', 9.583333334999999], ['South Carolina State University', 9.583333334999999], ['Immaculata University', 9.611111111], ['Tunxis Community College', 9.611111112333333], ['Beal University', 9.666666665000001], ['Lewis–Clark State College', 9.66666666575], ['Bethel University', 9.666666666000001], ['South Arkansas Community College', 9.6666666665], ['University of Arkansas Community College at Morrilton', 9.6666666665], ['Washington County Community College', 9.666666666666666], ['North Shore Community College', 9.666666667], ['Goldey–Beacom College', 9.666666668], ['Huntington University', 9.66666666825], ['Williston State College', 9.7083333335], ['Livingstone College', 9.75], ['Northampton County Area Community College (main campus)', 9.75], ['Northampton County Area Community College (Monroe campus)', 9.75], ['Bethany Theological Seminary', 9.7500000015], ['Earlham College', 9.7500000015], ['Idaho State University', 9.777777779], ['Indiana University of Pennsylvania', 9.8333333315], ['New Mexico Highlands University', 9.8333333325], ['Hawai‘i Community College', 9.8333333326], ['University of Hawaiʻi at Hilo', 9.8333333326], ['Alvernia University', 9.833333333], ['Indiana Wesleyan University', 9.83333333325], ['Northwest College', 9.8333333334], ['Vincennes University', 9.87500000075], ['Auburn University', 9.9166666665], ['Palmer College of Chiropractic', 9.9166666665], ['Gutenberg College', 9.944444444666667], ['Reading Area Community College', 9.944444445333334], ['Spring Hill College', 9.944444445666667], ['University of Valley Forge', 9.944444445666667], ['Augusta University', 9.9999999985], ['Dakota College at Bottineau', 9.9999999985], ['Columbus State University', 9.999999999000002], ['University of Montevallo', 10.0], ['Iowa Central Community College', 10.0], ['Bennington College', 10.0000000015], ['Clovis Community College', 10.04166666575], ['Anderson University', 10.055555556666667], ['New Mexico Institute of Mining and Technology', 10.055555556666667], ['Indiana University South Bend', 10.0833333335], ['Central Washington University', 10.0833333335], ['Holyoke Community College', 10.083333333999999], ['Beckfield College', 10.083333334999999], ['University of Georgia', 10.111111111], ['Charleston Southern University', 10.111111111], ['University of Dubuque', 10.166666666666666], ['University of Massachusetts Dartmouth', 10.16666667], ['Holy Apostles College and Seminary', 10.20833333325], ['Western New England University', 10.20833333425], ['Wright State University[20]', 10.222222221], ['Tiffin University', 10.2333333326], ['High Point University', 10.2499999985], ['Nevada State College', 10.25], ['Geisinger Commonwealth School of Medicine', 10.25], ['Winston-Salem State University', 10.2500000015], ['Ohio Wesleyan University', 10.277777776666667], ['John Witherspoon College', 10.277777776666667], ['East Carolina University', 10.29166666675], ['Westminster College', 10.33333333], ['Dickinson State University', 10.333333332333334], ['Seton Hill University', 10.333333333333334], ['Evangelical Seminary', 10.3333333335], ['Delaware County Community College (Marple campus)', 10.333333333999999], ['Delaware County Community College (Downingtown campus)', 10.333333333999999], ['Barton College', 10.37499999825], ['Sacred Heart University', 10.41666667], ['University of Charleston', 10.466666667199998], ['Michigan State University', 10.5], ['The College of Wooster', 10.5], ['Wilkes University', 10.5], ['Franklin College', 10.583333334999999], ['Bryant University', 10.583333334999999], ['Cabarrus College of Health Sciences', 10.666666665000001], ['Massachusetts Bay Community College', 10.666666665666668], ['Carolina University', 10.6666666665], ['Salem College', 10.6666666665], ['Norwalk Community College', 10.666666666666666], ['Aims Community College', 10.66666667], ['Midwestern University', 10.708333333999999], ['Massachusetts College of Liberal Arts', 10.708333334], ['Dean College', 10.708333334999999], ['Central Baptist College', 10.722222221], ['Penn State Scranton', 10.722222221], ['Marywood University', 10.722222221], ['Calvary Baptist Theological Seminary', 10.722222221], ['York College of Pennsylvania', 10.722222223333333], ['Iowa State University', 10.75], ['Bristol Community College', 10.75], ['Davis & Elkins College', 10.75000000075], ['Wittenberg University', 10.83333333], ['Curry College', 10.8333333315], [\"King's College (The College of Christ the King)\", 10.8333333315], ['Penn State DuBois', 10.833333332333334], ['Wellesley College', 10.8333333326], ['Lycoming College', 10.833333333333334], ['Post University', 10.8333333335], ['Mid-Atlantic Christian University', 10.8333333335], ['Lebanon Valley College', 10.888888887666667], ['Converse University', 10.888888887666667], ['North Dakota State University', 10.888888889], ['Central Carolina Technical College', 10.888888891], ['University of South Carolina Sumter', 10.888888891], ['Wilson College', 10.9166666685], ['Elizabethtown College', 10.944444443333333], ['Otterbein University', 10.944444446666665], ['Boise Bible College', 11.0], ['Montgomery County Community College (central campus)', 11.00000000075], ['Montgomery County Community College (west campus)', 11.00000000075], ['Reformed Episcopal Seminary', 11.00000000075], ['Hendrix College', 11.0000000015], ['Mount St. Joseph University', 11.04166666825], ['Edinboro University of Pennsylvania', 11.0555555555], ['Marshall University', 11.08333333], ['Mountwest Community and Technical College', 11.08333333], ['York Technical College', 11.0833333335], ['Clatsop Community College', 11.083333334], ['Pittsburgh Technical College', 11.083333334999999], ['Northwest–Shoals Community College', 11.166666665000001], ['A.T. Still University', 11.16666666675], ['Wayland Baptist University', 11.1666666675], ['College of the Holy Cross', 11.16666667], ['Oregon Health & Science University', 11.2000000006], ['Pennsylvania College of Art and Design', 11.222222223333333], ['Lenoir–Rhyne University', 11.25], ['Briar Cliff University', 11.29166666675], ['Penn State Greater Allegheny', 11.2999999986], ['Concordia Theological Seminary', 11.33333333], ['SIT Graduate Institute', 11.3333333335], ['Pittsburgh Institute of Aeronautics', 11.333333334333332], ['University of Maryland, Baltimore County', 11.416666665000001], ['University of Maryland, Baltimore County', 11.416666665000001], ['Clarion University of Pennsylvania', 11.433333334], ['Marian University', 11.444444444333334], ['University of California, Santa Cruz', 11.444444445666667], ['San Juan College', 11.444444446666665], ['University of Hartford', 11.5], ['South Dakota School of Mines and Technology', 11.5416666675], ['Eastern Connecticut State University', 11.611111112333333], ['University of Alaska Anchorage', 11.625000002499998], ['Alaska Pacific University', 11.625000002499998], ['Fitchburg State University', 11.666666666666666], ['Shawnee State University', 11.666666666666666], ['Great Basin College', 11.75], ['Yeshivah Bais Moshe', 11.75], ['Williamson College of the Trades', 11.75], ['University of California, Los Angeles', 11.83333333], ['Southeastern Baptist Theological Seminary', 11.8333333315], ['Atlanta Metropolitan State College', 11.8333333325], ['Ohio Dominican University', 11.833333334999999], ['University of Saint Francis', 11.874999997500002], ['North Carolina A&T State University', 11.888888889999999], ['Thiel College', 11.888888889999999], ['Goodwin University', 11.944444446666665], ['Mitchell College', 11.9583333325], ['Waynesburg University', 11.9583333325], ['Amridge University', 12.0], ['Auburn University at Montgomery', 12.0], ['Charter Oak State College', 12.0], ['University of Saint Joseph', 12.0], ['Lasell University', 12.0], ['Linn–Benton Community College', 12.0], ['Neumann University', 12.0000000015], ['Oregon Institute of Technology', 12.0833333325], ['University of California, Merced', 12.08333333325], ['Shorter College', 12.111111110000001], ['Worcester State University', 12.111111110000001], ['Kettering College', 12.111111110000001], ['Naugatuck Valley Community College', 12.111111111], ['Marshalltown Community College', 12.111111111], ['Salve Regina University', 12.12499999825], ['University of Dayton', 12.166666665000001], ['Franciscan University of Steubenville', 12.166666665000001], ['International Business College', 12.166666665666668], ['Lackawanna College (main campus)', 12.16666667], ['Lackawanna College', 12.16666667], ['Lackawanna College', 12.16666667], ['Lackawanna College', 12.16666667], ['Lackawanna College', 12.16666667], ['Lackawanna College', 12.16666667], ['Lackawanna College', 12.16666667], ['Lawson State Community College', 12.20833333425], ['Southwest College of Naturopathic Medicine', 12.25], ['Marietta College', 12.25], ['Corban University', 12.25], ['Thomas Jefferson University', 12.25], ['West Virginia Northern Community College', 12.25], ['Quinnipiac University', 12.266666668000001], ['University of Arkansas – Pulaski Technical College', 12.33333333], ['La Roche University', 12.375], ['Frostburg State University', 12.388888887666667], ['Roger Williams University', 12.4583333325], ['Bryan University', 12.4999999985], ['University of Missouri', 12.5], ['Southwestern Indian Polytechnic Institute', 12.5], ['Mt. Hood Community College', 12.5], ['Middlesex Community College', 12.54166666575], ['Boston College', 12.555555555666666], ['Arcadia University', 12.5833333325], ['Westminster Theological Seminary', 12.5833333325], ['Brigham Young University–Hawaii', 12.583333334999999], ['Lewis & Clark College', 12.611111111], ['Byzantine Catholic Seminary of Saints Cyril and Methodius', 12.611111112333333], ['University of California, San Diego', 12.666666665000001], ['Penn State Abington', 12.66666666675], ['Davidson College', 12.666666667666666], ['Appalachian State University', 12.66666667], ['Christian Theological Seminary', 12.722222223333333], ['University of California, Davis', 12.75], ['West Virginia Wesleyan College', 12.75], ['University of Alabama in Huntsville', 12.7916666675], ['Pennco Tech', 12.7916666675], ['Lehigh University', 12.83333333], ['Huntington Junior College', 12.83333333], ['Penn State Dickinson Law', 12.83333333325], ['Des Moines University', 12.916666665000001], ['Carlow University', 12.91666667], ['Benedict College', 12.944444442333333], ['Greensboro College', 12.944444443333333], ['University of North Carolina at Greensboro', 12.944444443333333], ['Martin University', 13.0], ['University of Maryland Global Campus', 13.0], ['Merrimack College', 13.0], ['McCann School of Business and Technology', 13.0], ['McCann School of Business and Technology', 13.0], ['Columbia College[e]', 13.0], ['John Carroll University', 13.055555556666667], ['Penn State Beaver', 13.055555556666667], ['Community College of Beaver County', 13.055555556666667], ['Grand Canyon University', 13.083333334999999], ['North Idaho College', 13.083333334999999], ['Greenville Technical College', 13.083333334999999], ['Clark University', 13.16666667], ['Georgetown University', 13.16666667], ['University of Delaware', 13.25], ['University of New Mexico', 13.25], ['Trident Technical College', 13.25], ['Bay Path University', 13.27777778], ['Muscatine Community College', 13.291666668249999], ['University of Arkansas at Little Rock', 13.33333333], ['University of Connecticut', 13.33333333], ['Reconstructionist Rabbinical College', 13.33333333], ['University of Vermont', 13.33333333], ['University of North Carolina at Charlotte', 13.333333333333334], ['Faulkner University', 13.333333333999999], ['University of Nebraska Omaha', 13.416666665000001], ['Chamberlain College of Nursing', 13.444444443333333], ['Mount Mercy University', 13.444444443333333], ['International Business College–Indianapolis', 13.444444444333334], ['Hellenic College Holy Cross Greek Orthodox School of Theology', 13.444444446666665], ['Lincoln Tech[35]', 13.4583333325], ['Lincoln Tech (Allentown campus)', 13.4583333325], ['Lincoln Tech (Philadelphia campus)', 13.4583333325], ['Ursinus College', 13.458333334999999], ['Central Connecticut State University', 13.5], ['Hampshire College', 13.5], ['Southwestern College', 13.5], ['Haverford College', 13.5], ['Lafayette College', 13.5416666675], ['Connecticut College', 13.5833333325], ['United States Coast Guard Academy', 13.5833333325], ['American International College', 13.611111109999998], ['Springfield College', 13.611111109999998], ['Columbia Gorge Community College', 13.611111110000001], ['Respect Graduate School', 13.611111113333331], ['Towson University', 13.666666665000001], ['Towson University', 13.666666665000001], ['Elms College', 13.666666665000001], ['Carolinas College of Health Sciences', 13.666666665000001], ['University of California, Irvine', 13.666666666666666], ['Clinton Community College', 13.733333332], ['Dickinson College', 13.75], ['Talmudical Yeshiva of Philadelphia', 13.75], ['Arizona Christian University', 13.777777776666667], ['Holy Family University', 13.777777776666667], ['Holy Family University (Newtown campus)', 13.777777776666667], ['Birmingham–Southern College', 13.791666665000001], ['University of St. Francis', 13.791666665000001], ['Georgia Institute of Technology', 13.83333333], ['Bryn Athyn College of the New Church', 13.83333333], ['Bob Jones University', 13.83333333], ['University of Massachusetts Medical School', 13.833333333333334], ['Temple University', 13.833333333333334], ['Philadelphia College of Osteopathic Medicine', 13.833333334999999], ['William James College', 13.888888886666669], ['Mercyhurst University', 13.888888888333334], ['University of Nevada, Las Vegas', 13.888888889999999], ['Queens University of Charlotte', 13.888888889999999], ['University of Wisconsin–Milwaukee', 13.888888889999999], ['Phoenix Seminary', 13.933333334], ['Delaware State University', 13.944444443333333], ['Delaware Technical Community College', 13.944444443333333], [\"Saint John's Seminary\", 13.944444446666665], ['Crossroads Bible College', 13.958333334999999], ['Triangle Tech (Bethlehem campus)', 13.958333334999999], ['Triangle Tech (DuBois campus)', 13.958333334999999], ['Triangle Tech (Greensburg campus)', 13.958333334999999], ['Triangle Tech (Pittsburgh campus)', 13.958333334999999], ['Triangle Tech (Sunbury campus)', 13.958333334999999], ['Triangle Tech (Chambersburg campus)', 13.958333334999999], ['Quinsigamond Community College', 13.966666666], ['DeVry University', 14.0], ['DeVry University–Indiana', 14.0], ['Boston Baptist College', 14.0], ['Smith College', 14.0], ['University of Toledo', 14.0], ['Portland Community College', 14.0], ['Chatham University', 14.0], ['DeVry University', 14.0], ['Salus University', 14.041666665000001], ['Swarthmore College', 14.055555556666667], ['Treasure Valley Community College', 14.0666666666], ['Cincinnati State Technical and Community College', 14.083333335], ['North Carolina State University', 14.111111113333331], ['Brandeis University', 14.166666664000001], ['North Carolina Central University', 14.166666665000001], ['Gratz College', 14.166666666000001], ['Manor College', 14.166666666000001], ['Duke University', 14.166666666666666], ['Indiana University Fort Wayne[a]', 14.16666667], ['Purdue University Fort Wayne[b]', 14.16666667], ['Naval War College', 14.16666667], ['Middlebury College', 14.16666667], ['The Pennsylvania State University', 14.208333334999999], ['Miami University[14]', 14.25], ['Colorado State University', 14.277777776666667], ['Pittsburgh Theological Seminary', 14.291666665000001], ['Drake University', 14.2916666675], ['ASPIRA City College', 14.305555555], ['Allen University[b]', 14.3333333325], ['MGH Institute of Health Professions', 14.333333333333334], ['New England College of Optometry', 14.333333333333334], ['Notre Dame College', 14.375], ['Babson College', 14.388888889999999], ['Albertus Magnus College', 14.416666665000001], ['Southeastern Community College', 14.416666670000001], ['Labouré College', 14.428571428571429], ['Medcenter One College of Nursing', 14.433333332], ['Augustana University', 14.433333332], ['Morgan State University', 14.444444443333333], ['Morgan State University', 14.444444443333333], ['Massachusetts Institute of Technology', 14.444444443333333], ['Hartford International University for Religion and Peace', 14.458333330749998], ['Grand View University', 14.466666667999998], ['University of Maryland, Baltimore', 14.5], ['Widener University Delaware Law School', 14.5], ['Savannah State University', 14.5], ['Windward Community College', 14.5], ['Indiana Institute of Technology', 14.5], ['United States Naval Academy', 14.5], ['University of Maryland, Baltimore', 14.5], ['Hult International Business School', 14.5], ['University of Pittsburgh', 14.5], ['Tufts University', 14.5416666675], ['Cleveland Institute of Art', 14.555555556666667], ['Southern Oregon University', 14.583333334999999], ['Clemson University', 14.583333334999999], ['Brown University', 14.611111110000001], ['Rhode Island School of Design', 14.611111110000001], ['Champlain College', 14.611111110000001], ['Cairn University', 14.666666665000001], ['Geneva College', 14.666666665000001], ['University of New Haven', 14.6666666675], ['Butler University', 14.6666666675], ['William Penn University', 14.66666667], ['Emmanuel College', 14.66666667], ['Massachusetts College of Art and Design', 14.66666667], ['Massachusetts College of Pharmacy and Health Sciences', 14.66666667], ['Mount Holyoke College', 14.66666667], ['Simmons University', 14.66666667], ['Medical University of South Carolina', 14.66666667], ['University of Nebraska Medical Center', 14.666666670000001], ['East Stroudsburg University of Pennsylvania', 14.72222222], ['University of Hawaiʻi at Mānoa', 14.722222223333333], ['Linfield University', 14.722222223333333], ['Providence College', 14.75], ['Rhode Island College', 14.75], ['Marquette University', 14.75], ['Northern Arizona University', 14.777777780000001], ['Carnegie Mellon University', 14.7916666675], ['H. Councill Trenholm State Community College', 14.833333335], ['Harcum College', 14.833333335], ['Central Penn College', 14.875], ['Morningside College', 14.880952382857144], ['Huntsville Bible College', 14.888888886666669], ['Wayne State University', 14.916666665000001], ['Kapiolani Community College', 14.9583333325], ['Hebrew College', 14.9583333325], ['Reed College', 14.9583333325], ['Fisher College', 15.0], ['Westfield State University', 15.0], ['College of Southern Nevada', 15.0], [\"Saint Augustine's University\", 15.0], ['Capital University', 15.0], ['Lesley University', 15.033333334], ['Portland Bible College', 15.041666665], ['Southern Methodist University', 15.041666665000001], ['Trinity College', 15.055555553333335], ['Huntingdon College', 15.0833333325], ['Framingham State University', 15.083333334999999], ['Ohio University[17]', 15.083333334999999], ['Coe College', 15.111111110000001], ['University of the District of Columbia', 15.125], ['Montserrat College of Art', 15.138888889999999], ['University of Wisconsin–Madison', 15.166666665000001], ['Boston University', 15.166666670000003], ['University of Cincinnati[10]', 15.222222223333333], ['University of South Carolina Columbia (Main campus)', 15.277777776666667], ['Harvard University', 15.299999997999999], [\"Saint Joseph's University\", 15.33333333], ['La Salle University', 15.333333334999999], ['Meredith College', 15.333333335], ['University of North Carolina at Asheville', 15.333333336666668], ['Alabama State University', 15.388888889999999], ['Ohio State University[18]', 15.444444446666667], ['University of Portland', 15.499999997500002], ['Gateway Community College', 15.5], ['University of Iowa', 15.5], ['Trinity Southwest University', 15.5], ['Hocking College', 15.5], ['Bradford School', 15.5], ['Southern Maine Community College', 15.555555556666667], ['Wentworth Institute of Technology', 15.58333333], ['Arkansas Baptist College', 15.611111113333331], ['Philander Smith College', 15.611111113333331], ['Eastern Washington University', 15.633333336000002], ['Purdue University', 15.66666667], ['New England Conservatory of Music', 15.66666667], ['Northeastern University', 15.66666667], ['Colorado Mountain College', 15.7083333325], ['Salem State University', 15.708333335], ['Barber-Scotia College', 15.722222223333333], ['Charlotte Christian College and Theological Seminary', 15.75], ['Lutheran Theological Southern Seminary of Lenoir-Rhyne University', 15.75], ['Wesleyan University', 15.833333329999999], ['Widener University', 15.833333329999999], ['Clackamas Community College', 15.83333333], ['University of North Carolina at Chapel Hill (Flagship university)', 15.833333333333334], [\"Harrisburg Area Community College, Central Pennsylvania's Community College (Harrisburg campus)\", 15.833333333333334], [\"Harrisburg Area Community College, Central Pennsylvania's Community College (Lancaster campus)\", 15.833333333333334], [\"Harrisburg Area Community College, Central Pennsylvania's Community College (York campus)\", 15.833333333333334], [\"Harrisburg Area Community College, Central Pennsylvania's Community College (Gettysburg campus)\", 15.833333333333334], [\"Harrisburg Area Community College, Central Pennsylvania's Community College (Lebanon campus)\", 15.833333333333334], ['Ohio Technical College', 15.833333335], ['Springfield Technical Community College', 15.888888886666669], ['University of the Sciences', 15.916666665000001], ['Penn State York', 16.0], ['Bryn Mawr College', 16.0], ['University of Massachusetts Lowell', 16.055555553333335], ['University of Colorado Boulder', 16.083333335], ['Chestnut Hill College', 16.083333335], ['Coppin State University', 16.11111111], ['Coppin State University', 16.11111111], ['University of Missouri–Kansas City', 16.125], ['Warner Pacific University', 16.138888888333334], ['Roxbury Community College', 16.16666666333333], ['University of Massachusetts Amherst', 16.166666665], ['Gettysburg College', 16.166666665], ['Bay State College', 16.166666666666668], ['Bunker Hill Community College', 16.16666667], ['Baldwin Wallace University', 16.16666667], ['George Fox University', 16.2083333325], ['Cedar Crest College', 16.222222223333333], ['Berklee College of Music', 16.277777779999997], ['Indiana University Bloomington', 16.33333333], ['Housatonic Community College', 16.333333335], ['Eastern Oregon University', 16.388888886666667], ['University of Southern Maine', 16.38888889], ['Paier College of Art', 16.4583333325], ['Eastern Nazarene College', 16.5], ['Moravian University', 16.5833333325], ['Howard University', 16.583333335], ['Shaw University', 16.61111111], ['Sessions College for Professional Design', 16.666666665], ['Capital Community College', 16.66666667], ['Community College of Rhode Island', 16.66666667], ['Multnomah University', 16.722222223333333], ['University of Massachusetts Boston', 16.75], ['Muhlenberg College', 16.75], ['The Restaurant School at Walnut Hill College', 16.75], ['Amherst College', 16.83333333], ['University of Oregon', 16.83333333], ['Harrisburg University of Science and Technology', 16.833333333333332], ['Honolulu Community College', 17.0], ['Johnson C. Smith University', 17.0], ['University of Rhode Island', 17.0], ['Won Institute of Graduate Studies', 17.055555553333335], ['Yale University', 17.166666665], ['Gallaudet University', 17.16666667], ['College of Idaho', 17.200000002], ['Sinclair Community College', 17.333333335], ['Charleston School of Law', 17.333333335], ['Atlantic International University', 17.5], ['Longy School of Music of Bard College', 17.5], ['Pontifical Faculty of the Immaculate Conception at the Dominican House of Studies', 17.5], ['Trinity Washington University', 17.5], ['Point Park University', 17.555555555], ['International Institute for Restorative Practices', 17.583333335], ['Willamette University', 17.61111111], ['Boston Architectural College', 17.722222223333333], ['Vermont College of Fine Arts', 17.75], ['Mercy College of Ohio', 17.83333333], ['Trinity School for Ministry', 17.833333335], ['William Peace University', 17.916666665], ['Antonelli College', 18.0], ['Columbus College of Art and Design', 18.055555556666665], ['Columbus State Community College', 18.055555556666665], ['University of Nebraska–Lincoln', 18.166666665], ['Delaware College of Art and Design', 18.33333333], ['Art Academy of Cincinnati', 18.416666665], ['Pennsylvania Academy of the Fine Arts', 18.583333335], ['University of Baltimore', 18.777777776666667], ['University of Baltimore', 18.777777776666667], ['Johnson & Wales University - Charlotte', 18.777777776666667], ['Johnson & Wales University', 18.777777776666667], ['Maine College of Art', 18.916666665], ['Cleveland State University', 19.083333335], ['College of Charleston', 19.166666665], ['Fuller Theological Seminary', 19.33333333]]\n"
          ]
        }
      ]
    },
    {
      "cell_type": "code",
      "source": [
        "#Nested lists to csv\n",
        "def list_to_csv(filename, list_data):\n",
        "  with open(filename, 'w', newline='') as csvfile:\n",
        "      writer = csv.writer(csvfile)\n",
        "      writer.writerow(['column' + str(i) for i in range(len(list_data[0]))]) #default column names\n",
        "      writer.writerows(list_data)\n",
        "\n",
        "list_to_csv('output.csv', walkability_index_list)"
      ],
      "metadata": {
        "id": "8XVCzKhABf5S"
      },
      "execution_count": null,
      "outputs": []
    },
    {
      "cell_type": "code",
      "source": [
        "#group the institutions based on the walkability index for visualisations\n",
        "\n",
        "#Label: 1 - 5.75 (Least Walkable)\n",
        "#Label: 5.76 - 10.50 (Below Average Walkable)\n",
        "#Label: 10.51 - 15.25 (Above Average Walkable)\n",
        "#Label: 15.26 - 20 (Most Walkable)\n",
        "\n",
        "least_walkable, bavg_walkable, aavg_walkable, most_walkable = [], [], [], []\n",
        "\n",
        "for list_ in walkability_index_list: #list_ has institution name and its respective walkability index\n",
        "  if list_[1] <= 5.75:\n",
        "    least_walkable.append(list_)\n",
        "  elif list_[1] <= 10.5:\n",
        "    bavg_walkable.append(list_)\n",
        "  elif list_[1] <= 15.25:\n",
        "    aavg_walkable.append(list_)\n",
        "  else:\n",
        "    most_walkable.append(list_)\n",
        "\n",
        "#creating csv files for each of the group\n",
        "list_to_csv('least_walkable.csv', least_walkable)\n",
        "list_to_csv('bavg_walkable.csv', bavg_walkable)\n",
        "list_to_csv('aavg_walkable.csv', aavg_walkable)\n",
        "list_to_csv('most_walkable.csv', most_walkable)"
      ],
      "metadata": {
        "id": "Cc4J10qZwQbv"
      },
      "execution_count": null,
      "outputs": []
    },
    {
      "cell_type": "markdown",
      "source": [
        "!! How to tackle the surrounding blocks problem, should the neighbouring blocks be considered or not...\n",
        "\n",
        "if considered, certain blocks are very large in area compared to others and including their neighbours would bring in walkability index that might not be relevant.\n",
        "\n",
        "some blocks are small and not considering neighbours could mean a very perspective from walkability index and only a part of the university might be in that location while other parts may be in other blocks."
      ],
      "metadata": {
        "id": "a4uk4coTkO9z"
      }
    }
  ]
}